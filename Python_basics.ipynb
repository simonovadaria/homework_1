{
 "cells": [
  {
   "cell_type": "markdown",
   "metadata": {},
   "source": [
    "# Задание 1 "
   ]
  },
  {
   "cell_type": "markdown",
   "metadata": {},
   "source": [
    "Даны 2 переменных, в которых хранятся строки произвольной длины: phrase_1 и phrase_2.\n",
    "Напишите код, который проверяет какая из этих строк длиннее."
   ]
  },
  {
   "cell_type": "code",
   "execution_count": 38,
   "metadata": {},
   "outputs": [
    {
     "name": "stdout",
     "output_type": "stream",
     "text": [
      "Фразы равной длины\n"
     ]
    }
   ],
   "source": [
    "phrase_1 = 'Насколько проще было бы писать программы, если бы не заказчики'\n",
    "phrase_2 = 'Насколько проще было бы писать программы, если бы не заказчики'\n",
    "\n",
    "if len(phrase_1) > len(phrase_2):\n",
    "    print('Фраза 1 длиннее фразы 2')\n",
    "elif len(phrase_1) < len(phrase_2):\n",
    "    print('Фраза 2 длиннее фразы 1')\n",
    "else:\n",
    "    print('Фразы равной длины')"
   ]
  },
  {
   "cell_type": "markdown",
   "metadata": {},
   "source": [
    "# Задание 2"
   ]
  },
  {
   "cell_type": "markdown",
   "metadata": {},
   "source": [
    "Дана переменная, в которой хранится четырехзначное число (год). Необходимо написать программу, которая выведет, является ли данный год високосным или обычным."
   ]
  },
  {
   "cell_type": "code",
   "execution_count": 39,
   "metadata": {},
   "outputs": [
    {
     "name": "stdout",
     "output_type": "stream",
     "text": [
      "Обычный год\n"
     ]
    }
   ],
   "source": [
    "year = 1998\n",
    "\n",
    "if year % 4 == 0:\n",
    "    print('Високосный год')\n",
    "else:\n",
    "    print('Обычный год')"
   ]
  },
  {
   "cell_type": "markdown",
   "metadata": {},
   "source": [
    "# Задание 3"
   ]
  },
  {
   "cell_type": "markdown",
   "metadata": {},
   "source": [
    "Необходимо написать программу, которая будет запрашивать у пользователя месяц и дату рождения и выводить соответствующий знак зодиака."
   ]
  },
  {
   "cell_type": "code",
   "execution_count": 40,
   "metadata": {},
   "outputs": [
    {
     "name": "stdout",
     "output_type": "stream",
     "text": [
      "День рождения: 11\n",
      "Месяц рождения: Июнь\n",
      "Близнецы\n"
     ]
    }
   ],
   "source": [
    "day = int(input('День рождения: '))\n",
    "month = str(input('Месяц рождения: '))\n",
    "\n",
    "if (day >= 21 and month == 'Март') or (day <= 20 and month == 'Апрель'):\n",
    "    print('Овен')\n",
    "elif (day >= 21 and month == 'Апрель') or (day <= 20 and month == 'Май'):\n",
    "    print('Телец')\n",
    "elif (day >= 21 and month == 'Май') or (day <= 20 and month == 'Июнь'):\n",
    "    print('Близнецы')\n",
    "elif (day >= 21 and month == 'Июнь') or (day <= 22 and month == 'Июль'):\n",
    "    print('Рак')\n",
    "elif (day >= 23 and month == 'Июль') or (day <= 22 and month == 'Август'):\n",
    "    print('Лев')\n",
    "elif (day >= 23 and month == 'Август') or (day <= 22 and month == 'Сентябрь'):\n",
    "    print('Дева')\n",
    "elif (day >= 23 and month == 'Сентябрь') or (day <= 22 and month == 'Октябрь'):\n",
    "    print('Весы')\n",
    "elif (day >= 23 and month == 'Октябрь') or (day <= 22 and month == 'Ноябрь'):\n",
    "    print('Скорпион')\n",
    "elif (day >= 23 and month == 'Ноябрь') or (day <= 21 and month == 'Декабрь'):\n",
    "    print('Стрелец')\n",
    "elif (day >= 22 and month == 'Декабрь') or (day <= 19 and month == 'Январь'):\n",
    "    print('Козерог')\n",
    "elif (day >= 20 and month == 'Январь') or (day <= 19 and month == 'Февраль'):\n",
    "    print('Водолей')\n",
    "elif (day >= 20 and month == 'Февраль') or (day <= 20 and month == 'Март'):\n",
    "    print('Рыбы')\n",
    "else:\n",
    "    print('Ошибка ввода')"
   ]
  },
  {
   "cell_type": "markdown",
   "metadata": {},
   "source": [
    "# Задание 4 "
   ]
  },
  {
   "cell_type": "markdown",
   "metadata": {},
   "source": [
    "Вам нужно написать программу для подбора упаковок по размерам товара:\n",
    "\n",
    "если каждое из трех измерений менее 15 сантиметров, то выведите на экран “Коробка №1”;\n",
    "если хотя бы одно из измерений больше 15 сантиметров, но менее 50 сантиметров, то выводите “Коробка №2”;\n",
    "если длина товара больше 2 метров, то выводите “Упаковка для лыж”;\n",
    "во всех остальных случаях выводите “Стандартная коробка №3”."
   ]
  },
  {
   "cell_type": "code",
   "execution_count": 41,
   "metadata": {},
   "outputs": [
    {
     "name": "stdout",
     "output_type": "stream",
     "text": [
      "Упаковка для лыж\n"
     ]
    }
   ],
   "source": [
    "w = 30\n",
    "l = 200\n",
    "h = 25\n",
    "\n",
    "if w <= 15 and l <= 15 and h <= 15:\n",
    "    print('Коробка №1')\n",
    "elif l < 200 and (15 < w < 50 or 15 < l < 50 or 15 < h < 50):\n",
    "    print('Коробка №2')\n",
    "elif l >= 200:\n",
    "    print('Упаковка для лыж')\n",
    "else:\n",
    "    print('Стандартная коробка №3')"
   ]
  },
  {
   "cell_type": "markdown",
   "metadata": {},
   "source": [
    "# Задание 5"
   ]
  },
  {
   "cell_type": "markdown",
   "metadata": {},
   "source": [
    "Дана переменная, в которой хранится шестизначное число (номер проездного билета). Напишите программу, которая будет определять, является ли данный билет “счастливым”. Билет считается счастливым, если сумма первых трех цифр совпадает с суммой последних трех цифр номера."
   ]
  },
  {
   "cell_type": "code",
   "execution_count": 37,
   "metadata": {},
   "outputs": [
    {
     "name": "stdout",
     "output_type": "stream",
     "text": [
      "Обычный билет\n"
     ]
    }
   ],
   "source": [
    "ticket = 123322\n",
    "\n",
    "n6 = ticket % 10\n",
    "n5 = (ticket // 10) % 10\n",
    "n4 = (ticket // 100) % 10\n",
    "n3 = (ticket // 1000) % 10\n",
    "n2 = (ticket // 10000) % 10\n",
    "n1 = (ticket // 100000) % 10\n",
    "\n",
    "if n1 + n2 + n3 == n4 + n5 + n6:\n",
    "    print('Счастливый билет')\n",
    "else:\n",
    "    print('Обычный билет')"
   ]
  },
  {
   "cell_type": "markdown",
   "metadata": {},
   "source": [
    "# Задание 6"
   ]
  },
  {
   "cell_type": "markdown",
   "metadata": {},
   "source": [
    "Напишите программу, которая сможет вычислять площади трех фигур (круг, треугольник и прямоугольник). Тип фигуры запрашиваем через пользовательский ввод, после чего делаем запрос характеристик фигуры:\n",
    "\n",
    "если пользователь выбрал круг, запрашиваем его радиус,\n",
    "если треугольник – длины трех его сторон;\n",
    "если прямоугольник – длины двух его сторон."
   ]
  },
  {
   "cell_type": "code",
   "execution_count": 4,
   "metadata": {},
   "outputs": [
    {
     "name": "stdout",
     "output_type": "stream",
     "text": [
      "Тип фигуры: Прямоугольник\n",
      "Введите сторону a: 5\n",
      "Введите сторону b: 10\n",
      "Площадь фигуры:  50\n"
     ]
    }
   ],
   "source": [
    "import math\n",
    "\n",
    "type = str(input('Тип фигуры: '))\n",
    "\n",
    "\n",
    "if type == 'Круг':\n",
    "    R = int(input('Введите радиус круга: '))\n",
    "    print('Площадь фигуры: ', (R**2)*math.pi)\n",
    "elif type == 'Треугольник':\n",
    "    A = int(input('Введите сторону A: ')) \n",
    "    B = int(input('Введите сторону B: ')) \n",
    "    C = int(input('Введите сторону C: '))\n",
    "    p = (A + B + C) / 2\n",
    "    print('Площадь фигуры: ',math.sqrt(p * (p - A) * (p - B) * (p - C)))\n",
    "elif type == 'Прямоугольник':\n",
    "    a = int(input('Введите сторону a: '))\n",
    "    b = int(input('Введите сторону b: '))\n",
    "    print('Площадь фигуры: ', a * b)"
   ]
  }
 ],
 "metadata": {
  "kernelspec": {
   "display_name": "Python 3",
   "language": "python",
   "name": "python3"
  },
  "language_info": {
   "codemirror_mode": {
    "name": "ipython",
    "version": 3
   },
   "file_extension": ".py",
   "mimetype": "text/x-python",
   "name": "python",
   "nbconvert_exporter": "python",
   "pygments_lexer": "ipython3",
   "version": "3.8.3"
  }
 },
 "nbformat": 4,
 "nbformat_minor": 4
}
